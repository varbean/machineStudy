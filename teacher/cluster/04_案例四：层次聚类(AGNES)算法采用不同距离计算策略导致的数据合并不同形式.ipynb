{
 "cells": [
  {
   "cell_type": "code",
   "execution_count": 1,
   "metadata": {
    "collapsed": true
   },
   "outputs": [],
   "source": [
    "import numpy as np\n",
    "import matplotlib as mpl\n",
    "import matplotlib.pyplot as plt\n",
    "from sklearn.cluster import AgglomerativeClustering\n",
    "from sklearn.neighbors import kneighbors_graph\n",
    "import sklearn.datasets as ds\n",
    "import warnings"
   ]
  },
  {
   "cell_type": "code",
   "execution_count": 2,
   "metadata": {
    "collapsed": true
   },
   "outputs": [],
   "source": [
    "## 设置属性防止中文乱码及拦截异常信息\n",
    "mpl.rcParams['font.sans-serif'] = [u'SimHei']\n",
    "mpl.rcParams['axes.unicode_minus'] = False\n",
    "warnings.filterwarnings(action='ignore', category=UserWarning)"
   ]
  },
  {
   "cell_type": "code",
   "execution_count": 3,
   "metadata": {
    "collapsed": false
   },
   "outputs": [
    {
     "ename": "IndexError",
     "evalue": "index 660 is out of bounds for axis 0 with size 500",
     "output_type": "error",
     "traceback": [
      "\u001b[0;31m---------------------------------------------------------------------------\u001b[0m",
      "\u001b[0;31mIndexError\u001b[0m                                Traceback (most recent call last)",
      "\u001b[0;32m<ipython-input-3-1bee0367ff99>\u001b[0m in \u001b[0;36m<module>\u001b[0;34m()\u001b[0m\n\u001b[1;32m      4\u001b[0m \u001b[0mN\u001b[0m \u001b[1;33m=\u001b[0m \u001b[1;36m1000\u001b[0m\u001b[1;33m\u001b[0m\u001b[0m\n\u001b[1;32m      5\u001b[0m data1, y1 = ds.make_blobs(n_samples=N, n_features=2, centers=((-1, 1), (1, 1), (1, -1), (-1, -1)),\n\u001b[0;32m----> 6\u001b[0;31m                           cluster_std=[0.1,0.2], random_state=0)\n\u001b[0m\u001b[1;32m      7\u001b[0m \u001b[1;33m\u001b[0m\u001b[0m\n\u001b[1;32m      8\u001b[0m \u001b[0mn_noise\u001b[0m \u001b[1;33m=\u001b[0m \u001b[0mint\u001b[0m\u001b[1;33m(\u001b[0m\u001b[1;36m0.1\u001b[0m\u001b[1;33m*\u001b[0m\u001b[0mN\u001b[0m\u001b[1;33m)\u001b[0m\u001b[1;33m\u001b[0m\u001b[0m\n",
      "\u001b[0;32mC:\\Users\\Administrator\\Anaconda3\\lib\\site-packages\\sklearn\\datasets\\samples_generator.py\u001b[0m in \u001b[0;36mmake_blobs\u001b[0;34m(n_samples, n_features, centers, cluster_std, center_box, shuffle, random_state)\u001b[0m\n\u001b[1;32m    766\u001b[0m         \u001b[0mindices\u001b[0m \u001b[1;33m=\u001b[0m \u001b[0mnp\u001b[0m\u001b[1;33m.\u001b[0m\u001b[0marange\u001b[0m\u001b[1;33m(\u001b[0m\u001b[0mn_samples\u001b[0m\u001b[1;33m)\u001b[0m\u001b[1;33m\u001b[0m\u001b[0m\n\u001b[1;32m    767\u001b[0m         \u001b[0mgenerator\u001b[0m\u001b[1;33m.\u001b[0m\u001b[0mshuffle\u001b[0m\u001b[1;33m(\u001b[0m\u001b[0mindices\u001b[0m\u001b[1;33m)\u001b[0m\u001b[1;33m\u001b[0m\u001b[0m\n\u001b[0;32m--> 768\u001b[0;31m         \u001b[0mX\u001b[0m \u001b[1;33m=\u001b[0m \u001b[0mX\u001b[0m\u001b[1;33m[\u001b[0m\u001b[0mindices\u001b[0m\u001b[1;33m]\u001b[0m\u001b[1;33m\u001b[0m\u001b[0m\n\u001b[0m\u001b[1;32m    769\u001b[0m         \u001b[0my\u001b[0m \u001b[1;33m=\u001b[0m \u001b[0my\u001b[0m\u001b[1;33m[\u001b[0m\u001b[0mindices\u001b[0m\u001b[1;33m]\u001b[0m\u001b[1;33m\u001b[0m\u001b[0m\n\u001b[1;32m    770\u001b[0m \u001b[1;33m\u001b[0m\u001b[0m\n",
      "\u001b[0;31mIndexError\u001b[0m: index 660 is out of bounds for axis 0 with size 500"
     ]
    }
   ],
   "source": [
    "## 模拟数据产生: 产生600条数据\n",
    "np.random.seed(0)\n",
    "n_clusters = 4\n",
    "N = 1000\n",
    "data1, y1 = ds.make_blobs(n_samples=N, n_features=2, centers=((-1, 1), (1, 1), (1, -1), (-1, -1)),\n",
    "                          cluster_std=[0.1,0.2], random_state=0)\n",
    "\n",
    "n_noise = int(0.1*N)\n",
    "r = np.random.rand(n_noise, 2)\n",
    "min1, min2 = np.min(data1, axis=0)\n",
    "max1, max2 = np.max(data1, axis=0)\n",
    "r[:, 0] = r[:, 0] * (max1-min1) + min1\n",
    "r[:, 1] = r[:, 1] * (max2-min2) + min2\n",
    "\n",
    "data1_noise = np.concatenate((data1, r), axis=0)\n",
    "y1_noise = np.concatenate((y1, [4]*n_noise))\n",
    "\n",
    "data2, y2 = ds.make_moons(n_samples=N, noise=.05)\n",
    "data2 = np.array(data2)\n",
    "n_noise = int(0.1 * N)\n",
    "r = np.random.rand(n_noise, 2)\n",
    "min1, min2 = np.min(data2, axis=0)\n",
    "max1, max2 = np.max(data2, axis=0)\n",
    "r[:, 0] = r[:, 0] * (max1 - min1) + min1\n",
    "r[:, 1] = r[:, 1] * (max2 - min2) + min2\n",
    "data2_noise = np.concatenate((data2, r), axis=0)\n",
    "y2_noise = np.concatenate((y2, [3] * n_noise))"
   ]
  },
  {
   "cell_type": "code",
   "execution_count": null,
   "metadata": {
    "collapsed": false
   },
   "outputs": [],
   "source": [
    "import pygal"
   ]
  },
  {
   "cell_type": "code",
   "execution_count": null,
   "metadata": {
    "collapsed": true
   },
   "outputs": [],
   "source": [
    "def expandBorder(a, b):\n",
    "    d = (b - a) * 0.1\n",
    "    return a-d, b+d"
   ]
  },
  {
   "cell_type": "code",
   "execution_count": null,
   "metadata": {
    "collapsed": false
   },
   "outputs": [],
   "source": [
    "## 画图\n",
    "cm = mpl.colors.ListedColormap(['#FF0000', '#00FF00',  '#0000FF', '#d8e507', '#F0F0F0'])\n",
    "plt.figure(figsize=(14, 12), facecolor='w')\n",
    "linkages = (\"ward\", \"complete\", \"average\")\n",
    "for index, (n_clusters, data, y) in enumerate(((4, data1, y1), (4, data1_noise, y1_noise),\n",
    "                                               (2, data2, y2), (2, data2_noise, y2_noise))):\n",
    "    \n",
    "    plt.subplot(4, 4, 4*index+1)\n",
    "    plt.scatter(data[:, 0], data[:, 1], c=y, cmap=cm)\n",
    "    plt.title(u'原始数据', fontsize=17)\n",
    "    plt.grid(b=True, ls=':')\n",
    "    min1, min2 = np.min(data, axis=0)\n",
    "    max1, max2 = np.max(data, axis=0)\n",
    "    plt.xlim(expandBorder(min1, max1))\n",
    "    plt.ylim(expandBorder(min2, max2))\n",
    "\n",
    "    connectivity = kneighbors_graph(data, n_neighbors=7, mode='distance', metric='minkowski', p=2, include_self=True)\n",
    "    connectivity = 0.5 * (connectivity + connectivity.T)\n",
    "    for i, linkage in enumerate(linkages):\n",
    "        ac = AgglomerativeClustering(n_clusters=n_clusters, affinity='euclidean',\n",
    "                                     connectivity=connectivity, linkage=linkage)\n",
    "        ac.fit(data)\n",
    "        y = ac.labels_\n",
    "        \n",
    "        plt.subplot(4, 4, i+2+4*index)\n",
    "        plt.scatter(data[:, 0], data[:, 1], c=y, cmap=cm)\n",
    "        plt.title(linkage, fontsize=17)\n",
    "        plt.grid(b=True, ls=':')\n",
    "        plt.xlim(expandBorder(min1, max1))\n",
    "        plt.ylim(expandBorder(min2, max2))\n",
    "\n",
    "plt.suptitle(u'AGNES层次聚类的不同合并策略', fontsize=30)\n",
    "plt.tight_layout(0.5, rect=(0, 0, 1, 0.95))\n",
    "plt.show()"
   ]
  }
 ],
 "metadata": {
  "kernelspec": {
   "display_name": "Python 3",
   "language": "python",
   "name": "python3"
  }
 },
 "nbformat": 4,
 "nbformat_minor": 0
}
